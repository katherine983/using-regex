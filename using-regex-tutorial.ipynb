{
 "cells": [
  {
   "cell_type": "markdown",
   "id": "7bbb1cfc",
   "metadata": {
    "slideshow": {
     "slide_type": "slide"
    }
   },
   "source": [
    "# Using Regular Expressions in Python for String Manipulations\n",
    "\n",
    "By Katherine Wuestney, PhD, RN"
   ]
  },
  {
   "cell_type": "markdown",
   "id": "33a048e7",
   "metadata": {
    "slideshow": {
     "slide_type": "slide"
    }
   },
   "source": [
    "## How do we filter strings?\n",
    "\n",
    "Basic string manipulation using built-in string methods\n",
    "\n",
    "Where **s** is a string var:\n",
    "\n",
    "- s.find() -> returns index where the pattern occurs in the string\n",
    "- s.split() -> returns list of strings split along the delimiter (default is white space)\n",
    "- s[:] -> basic string slicing using index vals"
   ]
  },
  {
   "cell_type": "markdown",
   "id": "b846d0b5",
   "metadata": {
    "slideshow": {
     "slide_type": "slide"
    }
   },
   "source": [
    "## Example 1\n",
    "\n",
    "Each data entry in a dataset has a unique id: \n",
    "\n",
    "- \"pt001\"\n",
    "- 2-letter prefix and 3-digit suffix\n",
    "\n",
    "Get the numeric portion using string slicing:"
   ]
  },
  {
   "cell_type": "code",
   "execution_count": 1,
   "id": "a5b4ea0a",
   "metadata": {
    "slideshow": {
     "slide_type": "fragment"
    }
   },
   "outputs": [
    {
     "name": "stdout",
     "output_type": "stream",
     "text": [
      "001\n"
     ]
    }
   ],
   "source": [
    "ptid = \"pt001\"\n",
    "ptnum = ptid[2:]\n",
    "print(ptnum)"
   ]
  },
  {
   "cell_type": "markdown",
   "id": "590ba1fc",
   "metadata": {
    "slideshow": {
     "slide_type": "slide"
    }
   },
   "source": [
    "## What if the string isn't standardized?"
   ]
  },
  {
   "cell_type": "markdown",
   "id": "a2103c5d",
   "metadata": {
    "slideshow": {
     "slide_type": "slide"
    }
   },
   "source": [
    "## Regular Expressions\n",
    "\n",
    "- \"Regex\" type of syntax (not unique to Python)\n",
    "- advanced pattern matching in strings"
   ]
  },
  {
   "cell_type": "markdown",
   "id": "947a61ca",
   "metadata": {
    "slideshow": {
     "slide_type": "subslide"
    }
   },
   "source": [
    "Built in Python module -> re"
   ]
  },
  {
   "cell_type": "code",
   "execution_count": 2,
   "id": "ff968b89",
   "metadata": {
    "slideshow": {
     "slide_type": "fragment"
    }
   },
   "outputs": [],
   "source": [
    "import re"
   ]
  },
  {
   "cell_type": "markdown",
   "id": "edd9c4d8",
   "metadata": {
    "slideshow": {
     "slide_type": "slide"
    }
   },
   "source": [
    "## RegEx Functions\n",
    "\n",
    "**re.search**(*pattern, string*) \n",
    "\n",
    "Return first location in string matching pattern.\n"
   ]
  },
  {
   "cell_type": "code",
   "execution_count": 3,
   "id": "91359bbf",
   "metadata": {
    "slideshow": {
     "slide_type": "fragment"
    }
   },
   "outputs": [
    {
     "name": "stdout",
     "output_type": "stream",
     "text": [
      "<re.Match object; span=(9, 15), match='apples'>\n"
     ]
    }
   ],
   "source": [
    "fruit = \"bananas, apples, pineapples, pears, crabapples, mangos\"\n",
    "\n",
    "apples = re.search(\"apples\", fruit)\n",
    "print(apples)"
   ]
  },
  {
   "cell_type": "code",
   "execution_count": null,
   "id": "65ca6cba",
   "metadata": {
    "slideshow": {
     "slide_type": "notes"
    }
   },
   "outputs": [],
   "source": [
    "fruit[9:15]"
   ]
  },
  {
   "cell_type": "markdown",
   "id": "714b6665",
   "metadata": {
    "slideshow": {
     "slide_type": "slide"
    }
   },
   "source": [
    "## RegEx Functions\n",
    "\n",
    "**re.findall**(*pattern, string*) -> Return all non-overlapping matches of pattern in string, as a list of strings or tuples\n"
   ]
  },
  {
   "cell_type": "code",
   "execution_count": 4,
   "id": "cae76781",
   "metadata": {
    "slideshow": {
     "slide_type": "fragment"
    }
   },
   "outputs": [
    {
     "name": "stdout",
     "output_type": "stream",
     "text": [
      "['apples', 'apples', 'apples']\n"
     ]
    }
   ],
   "source": [
    "fruit = \"bananas, apples, pineapples, pears, crabapples, mangos\"\n",
    "\n",
    "apples = re.findall(\"apples\", fruit)\n",
    "print(apples)"
   ]
  },
  {
   "cell_type": "markdown",
   "id": "ba019b13",
   "metadata": {
    "slideshow": {
     "slide_type": "slide"
    }
   },
   "source": [
    "## RegEx Functions\n",
    "\n",
    "**re.match()** -> same as search but only matches at beginning of string  \n",
    "**re.finditer()** -> returns iterable generator instead of list  \n",
    "\n",
    "**match()** and **search()** return None when there is no match. Can test with bool"
   ]
  },
  {
   "cell_type": "code",
   "execution_count": 10,
   "id": "5c7bbf87",
   "metadata": {
    "slideshow": {
     "slide_type": "fragment"
    }
   },
   "outputs": [
    {
     "name": "stdout",
     "output_type": "stream",
     "text": [
      "None\n"
     ]
    }
   ],
   "source": [
    "fruit = \"bananas, apples, pineapples, pears, crabapples, mangos\"\n",
    "print(re.match(\"(apples)\", fruit))"
   ]
  },
  {
   "cell_type": "markdown",
   "id": "9e783f1f",
   "metadata": {
    "slideshow": {
     "slide_type": "slide"
    }
   },
   "source": [
    "## Building a RegEx Pattern\n",
    "Instead of specifying an exact string to match, we can specify sets of string characters in particular orders that may be acceptable. \n",
    "\n",
    "- Use \"[ ]\" to specify acceptable characters to match\n"
   ]
  },
  {
   "cell_type": "markdown",
   "id": "3aca1090",
   "metadata": {
    "slideshow": {
     "slide_type": "subslide"
    }
   },
   "source": [
    "### In a set \"[ ]\": \n",
    "- list characters individually\n",
    "    - \"[amp]\" will find \"a\", \"m\", or \"p\"\n",
    "- use \"-\" to indicate range of characters\n",
    "    - \"[a-z]\" will find any lower case ASCII letter\n",
    "- use \"^\" in front of set to negate the set\n",
    "    - \"[^amp]\" will find any character that ISN'T \"a\", \"m\", or \"p\"\n",
    "- use \"\\\" to escape special characters"
   ]
  },
  {
   "cell_type": "code",
   "execution_count": 11,
   "id": "be4ba57b",
   "metadata": {
    "slideshow": {
     "slide_type": "fragment"
    }
   },
   "outputs": [
    {
     "data": {
      "text/plain": [
       "['03', '14', '56', '29']"
      ]
     },
     "execution_count": 11,
     "metadata": {},
     "output_type": "execute_result"
    }
   ],
   "source": [
    "twodigits = \"03, 68, 14, 56, 29, 91\"\n",
    "#find all two digit numbers between 00-59\n",
    "less_than_60 = re.findall(\"[0-5][0-9]\", twodigits)\n",
    "less_than_60"
   ]
  },
  {
   "cell_type": "markdown",
   "id": "b097319f",
   "metadata": {
    "slideshow": {
     "slide_type": "slide"
    }
   },
   "source": [
    "### Allowing multiple characters in the match\n",
    "\n",
    "- Use '\\*', '+', and '?' to specify variable number of instances to match\n",
    "- \\* means 0 or more instances\n",
    "- \\+ means 1 or more instances\n",
    "- \\? means 0 or 1 instances"
   ]
  },
  {
   "cell_type": "code",
   "execution_count": 13,
   "id": "cbbb8b3c",
   "metadata": {
    "scrolled": true,
    "slideshow": {
     "slide_type": "fragment"
    }
   },
   "outputs": [
    {
     "name": "stdout",
     "output_type": "stream",
     "text": [
      "['apples', 'pineapples', 'crabapples']\n",
      "['pineapples', 'crabapples']\n"
     ]
    }
   ],
   "source": [
    "fruit = \"bananas, apples, pineapples, pears, crabapples, mangos\"\n",
    "\n",
    "apples_all = re.findall(\"[a-z]*apples\", fruit)\n",
    "print(apples_all)\n",
    "\n",
    "#must have at least 1 letter before apples\n",
    "apples_other = re.findall(\"[a-z]+apples\", fruit)\n",
    "print(apples_other)"
   ]
  },
  {
   "cell_type": "code",
   "execution_count": 14,
   "id": "f353cfc0",
   "metadata": {
    "slideshow": {
     "slide_type": "fragment"
    }
   },
   "outputs": [
    {
     "name": "stdout",
     "output_type": "stream",
     "text": [
      "['l', 'e']\n"
     ]
    }
   ],
   "source": [
    "amp = re.findall(\"[^amp]\", \"ample\")\n",
    "print(amp)"
   ]
  },
  {
   "cell_type": "markdown",
   "id": "5f2bf1d0",
   "metadata": {
    "slideshow": {
     "slide_type": "slide"
    }
   },
   "source": [
    "### Greedy vs Non-Greedy\n",
    "\n",
    "- \"\\*\", \"+\", and \"?\" will match as much text as possible"
   ]
  },
  {
   "cell_type": "code",
   "execution_count": 15,
   "id": "ed26e59c",
   "metadata": {
    "slideshow": {
     "slide_type": "fragment"
    }
   },
   "outputs": [
    {
     "name": "stdout",
     "output_type": "stream",
     "text": [
      "an+ results: ['an', 'an', 'an']\n"
     ]
    }
   ],
   "source": [
    "#find all instances of repetitions of \"an\"\n",
    "fruit = \"bananas, apples, pineapples, pears, crabapples, mangos\"\n",
    "an_fruits = re.findall(\"an+\", fruit)\n",
    "print(\"an+ results:\", an_fruits)"
   ]
  },
  {
   "cell_type": "code",
   "execution_count": 16,
   "id": "fbcf4d2b",
   "metadata": {
    "slideshow": {
     "slide_type": "fragment"
    }
   },
   "outputs": [
    {
     "name": "stdout",
     "output_type": "stream",
     "text": [
      "a_trigrams: ['ananas', 'apples', 'apples', 'ars', 'abapples', 'angos']\n"
     ]
    }
   ],
   "source": [
    "#find all instances of three letter grams starting with 'a'\n",
    "a_trigrams = re.findall(\"a[a-z][a-z]+\", fruit)\n",
    "print(\"a_trigrams:\", a_trigrams)"
   ]
  },
  {
   "cell_type": "markdown",
   "id": "46958090",
   "metadata": {
    "slideshow": {
     "slide_type": "slide"
    }
   },
   "source": [
    "### Greedy vs Non-Greedy\n",
    "\n",
    "- \"\\*\", \"+\", and \"?\" will match as much text as possible\n",
    "    - Greedy\n",
    "- Use '\\*?' or '+?' to match as few characters as possible\n",
    "    - Non-greedy"
   ]
  },
  {
   "cell_type": "code",
   "execution_count": 18,
   "id": "81336bd6",
   "metadata": {
    "slideshow": {
     "slide_type": "fragment"
    }
   },
   "outputs": [
    {
     "name": "stdout",
     "output_type": "stream",
     "text": [
      "a_trigrams: ['ana', 'app', 'app', 'ars', 'aba', 'ang']\n",
      "a_trigrams: ['ana', 'app', 'app', 'ars', 'aba', 'ang']\n"
     ]
    }
   ],
   "source": [
    "a_trigrams = re.findall(\"a[a-z][a-z]+?\", fruit)\n",
    "print(\"a_trigrams:\", a_trigrams)\n",
    "\n",
    "a_trigrams = re.findall(\"a[a-z]{2}?\", fruit)\n",
    "print(\"a_trigrams:\", a_trigrams)"
   ]
  },
  {
   "cell_type": "markdown",
   "id": "25c49b61",
   "metadata": {
    "slideshow": {
     "slide_type": "fragment"
    }
   },
   "source": [
    "- Can use '{}' to specify exact numbers of matches of a previous RE\n",
    "    - {m} exactly *m* copies\n",
    "    - {m,n} *m* - *n* number of copies\n",
    "    - {,n} 0 - *n* copies\n",
    "    - {m,} *m* - infinity\n",
    "    - {m,n}? *m* - *n* non-greedy"
   ]
  },
  {
   "cell_type": "code",
   "execution_count": null,
   "id": "3f58113f",
   "metadata": {
    "scrolled": true,
    "slideshow": {
     "slide_type": "fragment"
    }
   },
   "outputs": [],
   "source": []
  },
  {
   "cell_type": "markdown",
   "id": "a4cae227",
   "metadata": {
    "slideshow": {
     "slide_type": "slide"
    }
   },
   "source": [
    "## Other Special Characters\n",
    "\n",
    "- '.' matches any character except newline (\\n)\n",
    "- '^' matches the start of the string (unless inside a set [], then it negates)\n",
    "- '\\\\$' matches end of the string "
   ]
  },
  {
   "cell_type": "markdown",
   "id": "81d29887",
   "metadata": {
    "slideshow": {
     "slide_type": "subslide"
    }
   },
   "source": [
    "## Special Sequences\n",
    "\n",
    "Short hand for sets of characters\n",
    "\n",
    "- \\d any decimal digit character (i.e., [0-9])\n",
    "- \\D any character NOT a decimal digit \n",
    "- \\s any whitespace characters ( \\t\\n\\r\\f\\v)\n",
    "- \\S NOT whitespace\n",
    "- \\w any word characters (alphanumeric and '_\\', not whitespace) \n",
    "- \\W NOT word characters"
   ]
  },
  {
   "cell_type": "markdown",
   "id": "dd2d564a",
   "metadata": {
    "slideshow": {
     "slide_type": "slide"
    }
   },
   "source": [
    "## Example 2 HTML Tags\n",
    "\n",
    "HTML code for a hyperlink beneath text. "
   ]
  },
  {
   "cell_type": "code",
   "execution_count": 28,
   "id": "19765b49",
   "metadata": {
    "slideshow": {
     "slide_type": "fragment"
    }
   },
   "outputs": [
    {
     "name": "stdout",
     "output_type": "stream",
     "text": [
      "href=\"https://www.freecodecamp.org/contribute/\">\n",
      "https://www.freecodecamp.org/contribute/\n",
      "['https://www.freecodecamp.org/contribute/']\n"
     ]
    }
   ],
   "source": [
    "html = \"\"\"<a href=\"https://www.freecodecamp.org/contribute/\">The freeCodeCamp Contribution Page</a>\"\"\"\n",
    "\n",
    "#extract url from html\n",
    "url = re.search(\"\"\"href=\"(.+?)\">\"\"\", html)\n",
    "print(url.group(0))\n",
    "print(url.group(1))\n",
    "print(re.findall(\"\"\"href=\"(.+?)\">\"\"\", html))"
   ]
  },
  {
   "cell_type": "code",
   "execution_count": null,
   "id": "24925ecf",
   "metadata": {
    "slideshow": {
     "slide_type": "notes"
    }
   },
   "outputs": [],
   "source": [
    "url = re.findall(\"<.+?>\", html)\n",
    "url = re.findall(\"href=.+?>\", html)\n",
    "url = re.findall(\"href=.+?>\", html)\n",
    "url = re.search(\"href=(.+?)>\", html)\n",
    "url.group(0)\n",
    "url.group(1)"
   ]
  },
  {
   "cell_type": "markdown",
   "id": "11083746",
   "metadata": {
    "slideshow": {
     "slide_type": "slide"
    }
   },
   "source": [
    "## Example 3 Parsing Bibliographic Entries From Scratch\n",
    "\n",
    "\n",
    "\n",
    "- \"pubmed-results.txt\" contains 2 results from PubMed search\n",
    "- entries in PubMed format -> tags at beginning of line\n",
    "- Use \"|\" for OR matching logic within the RE\n"
   ]
  },
  {
   "cell_type": "code",
   "execution_count": 29,
   "id": "b5fe5cb4",
   "metadata": {
    "slideshow": {
     "slide_type": "fragment"
    }
   },
   "outputs": [
    {
     "name": "stdout",
     "output_type": "stream",
     "text": [
      "['Humans', 'Aged', '*Frailty/diagnosis', 'Machine Learning', 'Algorithms', 'Artificial intelligence', 'Cognitive frailty', 'Elderly', 'Frailty', 'Frailty index', 'Fried frailty phenotype', 'Machine learning', 'Systematic review', 'Humans', 'Aged', '*Artificial Intelligence', 'Frail Elderly', '*Frailty', 'Machine Learning', 'Area Under Curve', 'accuracy', 'aging', 'artificial intelligence', 'biological variability', 'detection', 'diagnosis', 'frail older adult', 'frailty', 'identification', 'older adults', 'review', 'screening', 'sensitivity', 'tool']\n"
     ]
    }
   ],
   "source": [
    "#find all keyword and index terms\n",
    "#tags -> \"MH\" or \"OT\"\n",
    "\n",
    "keywords = []\n",
    "with open(\"pubmed-results.txt\", encoding='utf8') as fhand:\n",
    "    for line in fhand:\n",
    "        if re.match(\"MH |OT \", line):\n",
    "            kw = re.search(\"- (.+)\", line)\n",
    "            keywords.append(kw.group(1))\n",
    "print(keywords)"
   ]
  }
 ],
 "metadata": {
  "celltoolbar": "Slideshow",
  "kernelspec": {
   "display_name": "myenv",
   "language": "python",
   "name": "myenv"
  },
  "language_info": {
   "codemirror_mode": {
    "name": "ipython",
    "version": 3
   },
   "file_extension": ".py",
   "mimetype": "text/x-python",
   "name": "python",
   "nbconvert_exporter": "python",
   "pygments_lexer": "ipython3",
   "version": "3.9.12"
  }
 },
 "nbformat": 4,
 "nbformat_minor": 5
}
